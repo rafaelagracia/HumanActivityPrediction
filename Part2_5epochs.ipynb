{
  "nbformat": 4,
  "nbformat_minor": 5,
  "metadata": {
    "kernelspec": {
      "display_name": "Python 3",
      "language": "python",
      "name": "python3"
    },
    "language_info": {
      "codemirror_mode": {
        "name": "ipython",
        "version": 3
      },
      "file_extension": ".py",
      "mimetype": "text/x-python",
      "name": "python",
      "nbconvert_exporter": "python",
      "pygments_lexer": "ipython3",
      "version": "3.8.5"
    },
    "colab": {
      "name": "Part2_5epochs.ipynb",
      "provenance": [],
      "collapsed_sections": []
    },
    "widgets": {
      "application/vnd.jupyter.widget-state+json": {
        "125d96823e434ab88dba69b1b0a8738c": {
          "model_module": "@jupyter-widgets/controls",
          "model_name": "HBoxModel",
          "model_module_version": "1.5.0",
          "state": {
            "_view_name": "HBoxView",
            "_dom_classes": [],
            "_model_name": "HBoxModel",
            "_view_module": "@jupyter-widgets/controls",
            "_model_module_version": "1.5.0",
            "_view_count": null,
            "_view_module_version": "1.5.0",
            "box_style": "",
            "layout": "IPY_MODEL_26e0a566b71e4c23a5e691555fc1afd9",
            "_model_module": "@jupyter-widgets/controls",
            "children": [
              "IPY_MODEL_34a1d885107541798eb2c1395322eaf6",
              "IPY_MODEL_25ffb86cf92e48aaab3eb79df155ce13",
              "IPY_MODEL_068a27f1e06149c290bf1f476ae03a73"
            ]
          }
        },
        "26e0a566b71e4c23a5e691555fc1afd9": {
          "model_module": "@jupyter-widgets/base",
          "model_name": "LayoutModel",
          "model_module_version": "1.2.0",
          "state": {
            "_view_name": "LayoutView",
            "grid_template_rows": null,
            "right": null,
            "justify_content": null,
            "_view_module": "@jupyter-widgets/base",
            "overflow": null,
            "_model_module_version": "1.2.0",
            "_view_count": null,
            "flex_flow": null,
            "width": null,
            "min_width": null,
            "border": null,
            "align_items": null,
            "bottom": null,
            "_model_module": "@jupyter-widgets/base",
            "top": null,
            "grid_column": null,
            "overflow_y": null,
            "overflow_x": null,
            "grid_auto_flow": null,
            "grid_area": null,
            "grid_template_columns": null,
            "flex": null,
            "_model_name": "LayoutModel",
            "justify_items": null,
            "grid_row": null,
            "max_height": null,
            "align_content": null,
            "visibility": null,
            "align_self": null,
            "height": null,
            "min_height": null,
            "padding": null,
            "grid_auto_rows": null,
            "grid_gap": null,
            "max_width": null,
            "order": null,
            "_view_module_version": "1.2.0",
            "grid_template_areas": null,
            "object_position": null,
            "object_fit": null,
            "grid_auto_columns": null,
            "margin": null,
            "display": null,
            "left": null
          }
        },
        "34a1d885107541798eb2c1395322eaf6": {
          "model_module": "@jupyter-widgets/controls",
          "model_name": "HTMLModel",
          "model_module_version": "1.5.0",
          "state": {
            "_view_name": "HTMLView",
            "style": "IPY_MODEL_d1ae21d94f1d45dfb507acc0d62b5471",
            "_dom_classes": [],
            "description": "",
            "_model_name": "HTMLModel",
            "placeholder": "​",
            "_view_module": "@jupyter-widgets/controls",
            "_model_module_version": "1.5.0",
            "value": "100%",
            "_view_count": null,
            "_view_module_version": "1.5.0",
            "description_tooltip": null,
            "_model_module": "@jupyter-widgets/controls",
            "layout": "IPY_MODEL_553b29b829694b2dba0b8d4ca79dac98"
          }
        },
        "25ffb86cf92e48aaab3eb79df155ce13": {
          "model_module": "@jupyter-widgets/controls",
          "model_name": "FloatProgressModel",
          "model_module_version": "1.5.0",
          "state": {
            "_view_name": "ProgressView",
            "style": "IPY_MODEL_3f58dc5a584f4d82a5c5ba24affe7eb2",
            "_dom_classes": [],
            "description": "",
            "_model_name": "FloatProgressModel",
            "bar_style": "success",
            "max": 102530333,
            "_view_module": "@jupyter-widgets/controls",
            "_model_module_version": "1.5.0",
            "value": 102530333,
            "_view_count": null,
            "_view_module_version": "1.5.0",
            "orientation": "horizontal",
            "min": 0,
            "description_tooltip": null,
            "_model_module": "@jupyter-widgets/controls",
            "layout": "IPY_MODEL_29f12b68b26f453aab2f1c55292b066e"
          }
        },
        "068a27f1e06149c290bf1f476ae03a73": {
          "model_module": "@jupyter-widgets/controls",
          "model_name": "HTMLModel",
          "model_module_version": "1.5.0",
          "state": {
            "_view_name": "HTMLView",
            "style": "IPY_MODEL_8552e20bbed44ec48936c260c5d25728",
            "_dom_classes": [],
            "description": "",
            "_model_name": "HTMLModel",
            "placeholder": "​",
            "_view_module": "@jupyter-widgets/controls",
            "_model_module_version": "1.5.0",
            "value": " 97.8M/97.8M [00:01&lt;00:00, 104MB/s]",
            "_view_count": null,
            "_view_module_version": "1.5.0",
            "description_tooltip": null,
            "_model_module": "@jupyter-widgets/controls",
            "layout": "IPY_MODEL_26f6713e6ba24ac6aed09c81e21f8580"
          }
        },
        "d1ae21d94f1d45dfb507acc0d62b5471": {
          "model_module": "@jupyter-widgets/controls",
          "model_name": "DescriptionStyleModel",
          "model_module_version": "1.5.0",
          "state": {
            "_view_name": "StyleView",
            "_model_name": "DescriptionStyleModel",
            "description_width": "",
            "_view_module": "@jupyter-widgets/base",
            "_model_module_version": "1.5.0",
            "_view_count": null,
            "_view_module_version": "1.2.0",
            "_model_module": "@jupyter-widgets/controls"
          }
        },
        "553b29b829694b2dba0b8d4ca79dac98": {
          "model_module": "@jupyter-widgets/base",
          "model_name": "LayoutModel",
          "model_module_version": "1.2.0",
          "state": {
            "_view_name": "LayoutView",
            "grid_template_rows": null,
            "right": null,
            "justify_content": null,
            "_view_module": "@jupyter-widgets/base",
            "overflow": null,
            "_model_module_version": "1.2.0",
            "_view_count": null,
            "flex_flow": null,
            "width": null,
            "min_width": null,
            "border": null,
            "align_items": null,
            "bottom": null,
            "_model_module": "@jupyter-widgets/base",
            "top": null,
            "grid_column": null,
            "overflow_y": null,
            "overflow_x": null,
            "grid_auto_flow": null,
            "grid_area": null,
            "grid_template_columns": null,
            "flex": null,
            "_model_name": "LayoutModel",
            "justify_items": null,
            "grid_row": null,
            "max_height": null,
            "align_content": null,
            "visibility": null,
            "align_self": null,
            "height": null,
            "min_height": null,
            "padding": null,
            "grid_auto_rows": null,
            "grid_gap": null,
            "max_width": null,
            "order": null,
            "_view_module_version": "1.2.0",
            "grid_template_areas": null,
            "object_position": null,
            "object_fit": null,
            "grid_auto_columns": null,
            "margin": null,
            "display": null,
            "left": null
          }
        },
        "3f58dc5a584f4d82a5c5ba24affe7eb2": {
          "model_module": "@jupyter-widgets/controls",
          "model_name": "ProgressStyleModel",
          "model_module_version": "1.5.0",
          "state": {
            "_view_name": "StyleView",
            "_model_name": "ProgressStyleModel",
            "description_width": "",
            "_view_module": "@jupyter-widgets/base",
            "_model_module_version": "1.5.0",
            "_view_count": null,
            "_view_module_version": "1.2.0",
            "bar_color": null,
            "_model_module": "@jupyter-widgets/controls"
          }
        },
        "29f12b68b26f453aab2f1c55292b066e": {
          "model_module": "@jupyter-widgets/base",
          "model_name": "LayoutModel",
          "model_module_version": "1.2.0",
          "state": {
            "_view_name": "LayoutView",
            "grid_template_rows": null,
            "right": null,
            "justify_content": null,
            "_view_module": "@jupyter-widgets/base",
            "overflow": null,
            "_model_module_version": "1.2.0",
            "_view_count": null,
            "flex_flow": null,
            "width": null,
            "min_width": null,
            "border": null,
            "align_items": null,
            "bottom": null,
            "_model_module": "@jupyter-widgets/base",
            "top": null,
            "grid_column": null,
            "overflow_y": null,
            "overflow_x": null,
            "grid_auto_flow": null,
            "grid_area": null,
            "grid_template_columns": null,
            "flex": null,
            "_model_name": "LayoutModel",
            "justify_items": null,
            "grid_row": null,
            "max_height": null,
            "align_content": null,
            "visibility": null,
            "align_self": null,
            "height": null,
            "min_height": null,
            "padding": null,
            "grid_auto_rows": null,
            "grid_gap": null,
            "max_width": null,
            "order": null,
            "_view_module_version": "1.2.0",
            "grid_template_areas": null,
            "object_position": null,
            "object_fit": null,
            "grid_auto_columns": null,
            "margin": null,
            "display": null,
            "left": null
          }
        },
        "8552e20bbed44ec48936c260c5d25728": {
          "model_module": "@jupyter-widgets/controls",
          "model_name": "DescriptionStyleModel",
          "model_module_version": "1.5.0",
          "state": {
            "_view_name": "StyleView",
            "_model_name": "DescriptionStyleModel",
            "description_width": "",
            "_view_module": "@jupyter-widgets/base",
            "_model_module_version": "1.5.0",
            "_view_count": null,
            "_view_module_version": "1.2.0",
            "_model_module": "@jupyter-widgets/controls"
          }
        },
        "26f6713e6ba24ac6aed09c81e21f8580": {
          "model_module": "@jupyter-widgets/base",
          "model_name": "LayoutModel",
          "model_module_version": "1.2.0",
          "state": {
            "_view_name": "LayoutView",
            "grid_template_rows": null,
            "right": null,
            "justify_content": null,
            "_view_module": "@jupyter-widgets/base",
            "overflow": null,
            "_model_module_version": "1.2.0",
            "_view_count": null,
            "flex_flow": null,
            "width": null,
            "min_width": null,
            "border": null,
            "align_items": null,
            "bottom": null,
            "_model_module": "@jupyter-widgets/base",
            "top": null,
            "grid_column": null,
            "overflow_y": null,
            "overflow_x": null,
            "grid_auto_flow": null,
            "grid_area": null,
            "grid_template_columns": null,
            "flex": null,
            "_model_name": "LayoutModel",
            "justify_items": null,
            "grid_row": null,
            "max_height": null,
            "align_content": null,
            "visibility": null,
            "align_self": null,
            "height": null,
            "min_height": null,
            "padding": null,
            "grid_auto_rows": null,
            "grid_gap": null,
            "max_width": null,
            "order": null,
            "_view_module_version": "1.2.0",
            "grid_template_areas": null,
            "object_position": null,
            "object_fit": null,
            "grid_auto_columns": null,
            "margin": null,
            "display": null,
            "left": null
          }
        }
      }
    }
  },
  "cells": [
    {
      "cell_type": "markdown",
      "metadata": {
        "id": "1e4b5617-aa46-4385-9964-a3bac5ae5a15"
      },
      "source": [
        "## Planet four image classification"
      ],
      "id": "1e4b5617-aa46-4385-9964-a3bac5ae5a15"
    },
    {
      "cell_type": "code",
      "metadata": {
        "id": "746335e6-87ca-4786-ada5-a042ad526425"
      },
      "source": [
        "import numpy as np\n",
        "import matplotlib.pyplot as plt\n",
        "import pandas as pd \n",
        "\n",
        "import torch\n",
        "import torch.nn.functional as F\n",
        "import torch.nn as nn\n",
        "import torch.optim as optim\n",
        "import torchvision.transforms as transforms\n",
        "import torchvision.models as models\n",
        "import sklearn.metrics as metrics\n",
        "import tqdm\n",
        "\n",
        "from torch.utils.data import DataLoader\n",
        "from torchvision.datasets.folder import pil_loader\n",
        "from pathlib import Path\n",
        "from PIL import Image"
      ],
      "id": "746335e6-87ca-4786-ada5-a042ad526425",
      "execution_count": null,
      "outputs": []
    },
    {
      "cell_type": "code",
      "metadata": {
        "id": "qc1eWwS7lr43",
        "colab": {
          "base_uri": "https://localhost:8080/"
        },
        "outputId": "22ff93ab-051b-4475-ce2c-d952dbacb2e2"
      },
      "source": [
        "from google.colab import drive\n",
        "drive.mount('/content/drive')"
      ],
      "id": "qc1eWwS7lr43",
      "execution_count": null,
      "outputs": [
        {
          "output_type": "stream",
          "name": "stdout",
          "text": [
            "Mounted at /content/drive\n"
          ]
        }
      ]
    },
    {
      "cell_type": "markdown",
      "metadata": {
        "id": "2c002513-1fe7-4786-88cd-07d35fc0b430"
      },
      "source": [
        "Change the device to \"cpu\" if you want to train on a CPU instead of a GPU."
      ],
      "id": "2c002513-1fe7-4786-88cd-07d35fc0b430"
    },
    {
      "cell_type": "code",
      "metadata": {
        "id": "bad120f2-9393-4c57-87a7-8197e9a1245d"
      },
      "source": [
        "device = 'cuda'"
      ],
      "id": "bad120f2-9393-4c57-87a7-8197e9a1245d",
      "execution_count": null,
      "outputs": []
    },
    {
      "cell_type": "markdown",
      "metadata": {
        "id": "837c532e-5cfc-4216-a321-419968407f37"
      },
      "source": [
        "## Dataset\n",
        "\n",
        "Here we define a custom Dataset object for the Planet Four data. You can read more about this in the PyTorch documentation: https://pytorch.org/tutorials/beginner/basics/data_tutorial.html"
      ],
      "id": "837c532e-5cfc-4216-a321-419968407f37"
    },
    {
      "cell_type": "code",
      "metadata": {
        "id": "ba9356db-6837-4444-bdab-a4aea56007a9"
      },
      "source": [
        "class PlanetFourDataset(object):\n",
        "    def __init__(self, split='train', transform=None, loader=pil_loader):\n",
        "        super().__init__()\n",
        "        self.split = split\n",
        "        self.base_dir = Path('/content/drive/MyDrive/Splits')\n",
        "        self.image_dir = self.base_dir / split\n",
        "        self.labels_file = self.base_dir / (split + '.csv')\n",
        "        self.labels_df = pd.read_csv(self.labels_file)\n",
        "        self.transform = transform\n",
        "        self.loader = loader\n",
        "        \n",
        "    def __getitem__(self, index):\n",
        "        row = self.labels_df.iloc[index]\n",
        "        filename = self.image_dir / (row.tile_id + '.jpg')\n",
        "        fans = int(row.fans)\n",
        "        blotches = int(row.blotches)\n",
        "        image = self.loader(str(filename))\n",
        "        if self.transform is not None:\n",
        "            image = self.transform(image)\n",
        "        return image, torch.tensor([fans, blotches], dtype=torch.float32)\n",
        "    \n",
        "    def __len__(self):\n",
        "        return len(self.labels_df)"
      ],
      "id": "ba9356db-6837-4444-bdab-a4aea56007a9",
      "execution_count": null,
      "outputs": []
    },
    {
      "cell_type": "markdown",
      "metadata": {
        "id": "bb6ef1da-a034-4d88-bbab-64dbce05da6a"
      },
      "source": [
        "## Data augmentation\n",
        "\n",
        "It is standard practice in deep learning to augment the training examples to prevent the network from overfitting. Here I use some standard augmentations such as randomly mirroring the images."
      ],
      "id": "bb6ef1da-a034-4d88-bbab-64dbce05da6a"
    },
    {
      "cell_type": "code",
      "metadata": {
        "id": "198239e2-84ff-4e33-a1dd-7b9a18f68d49"
      },
      "source": [
        "train_transform = transforms.Compose([\n",
        "    transforms.RandomHorizontalFlip(),\n",
        "    transforms.ToTensor(),\n",
        "    transforms.Normalize((0.4914, 0.4822, 0.4465), (0.2023, 0.1994, 0.2010))                  \n",
        "])\n",
        "\n",
        "valid_transform = transforms.Compose([\n",
        "    transforms.ToTensor(),\n",
        "    transforms.Normalize((0.4914, 0.4822, 0.4465), (0.2023, 0.1994, 0.2010)) \n",
        "])"
      ],
      "id": "198239e2-84ff-4e33-a1dd-7b9a18f68d49",
      "execution_count": null,
      "outputs": []
    },
    {
      "cell_type": "markdown",
      "metadata": {
        "id": "7d7a5b9c-33a6-4bfc-a699-05f3415de676"
      },
      "source": [
        "## Data loaders\n",
        "\n",
        "In PyTorch, the data loaders take care of spinning up threads to load batches of data into memory from the dataset object."
      ],
      "id": "7d7a5b9c-33a6-4bfc-a699-05f3415de676"
    },
    {
      "cell_type": "code",
      "metadata": {
        "id": "f8b2fb4c-e711-49a0-9a21-fb8249972ffc"
      },
      "source": [
        "train_set = PlanetFourDataset('train', transform=train_transform)\n",
        "\n",
        "valid_set = PlanetFourDataset('valid', transform=train_transform)\n",
        "\n",
        "train_loader = DataLoader(train_set, batch_size=64, shuffle=True)\n",
        "valid_loader = DataLoader(valid_set, batch_size=64, shuffle=False)"
      ],
      "id": "f8b2fb4c-e711-49a0-9a21-fb8249972ffc",
      "execution_count": null,
      "outputs": []
    },
    {
      "cell_type": "code",
      "metadata": {
        "id": "djHOICk0iVx3"
      },
      "source": [
        ""
      ],
      "id": "djHOICk0iVx3",
      "execution_count": null,
      "outputs": []
    },
    {
      "cell_type": "markdown",
      "metadata": {
        "id": "1bbd1e9b-801b-4da5-975a-6c061b16b005"
      },
      "source": [
        "## Load a pretrained model\n",
        "\n",
        "Here we'll use ResNet50 model that has been pretrained on ImageNet and replace the final layer with a new one suited to our problem."
      ],
      "id": "1bbd1e9b-801b-4da5-975a-6c061b16b005"
    },
    {
      "cell_type": "code",
      "metadata": {
        "id": "9e84455f-5c9c-4ccd-a107-bf19e6fec48e",
        "colab": {
          "base_uri": "https://localhost:8080/",
          "height": 86,
          "referenced_widgets": [
            "125d96823e434ab88dba69b1b0a8738c",
            "26e0a566b71e4c23a5e691555fc1afd9",
            "34a1d885107541798eb2c1395322eaf6",
            "25ffb86cf92e48aaab3eb79df155ce13",
            "068a27f1e06149c290bf1f476ae03a73",
            "d1ae21d94f1d45dfb507acc0d62b5471",
            "553b29b829694b2dba0b8d4ca79dac98",
            "3f58dc5a584f4d82a5c5ba24affe7eb2",
            "29f12b68b26f453aab2f1c55292b066e",
            "8552e20bbed44ec48936c260c5d25728",
            "26f6713e6ba24ac6aed09c81e21f8580"
          ]
        },
        "outputId": "cdb7f0ce-bd0d-4b42-c76f-d43e09f94fc5"
      },
      "source": [
        "model = models.resnet50(pretrained=True)\n",
        "model.fc = nn.Linear(2048, 2)\n",
        "model.to(device);"
      ],
      "id": "9e84455f-5c9c-4ccd-a107-bf19e6fec48e",
      "execution_count": null,
      "outputs": [
        {
          "output_type": "stream",
          "name": "stderr",
          "text": [
            "Downloading: \"https://download.pytorch.org/models/resnet50-0676ba61.pth\" to /root/.cache/torch/hub/checkpoints/resnet50-0676ba61.pth\n"
          ]
        },
        {
          "output_type": "display_data",
          "data": {
            "application/vnd.jupyter.widget-view+json": {
              "model_id": "125d96823e434ab88dba69b1b0a8738c",
              "version_minor": 0,
              "version_major": 2
            },
            "text/plain": [
              "  0%|          | 0.00/97.8M [00:00<?, ?B/s]"
            ]
          },
          "metadata": {}
        }
      ]
    },
    {
      "cell_type": "code",
      "metadata": {
        "id": "STbqOaI7onLv"
      },
      "source": [
        "model"
      ],
      "id": "STbqOaI7onLv",
      "execution_count": null,
      "outputs": []
    },
    {
      "cell_type": "markdown",
      "metadata": {
        "id": "8f3d8cc2-2be4-48e7-aa2e-f35d7a835796"
      },
      "source": [
        "## Loss\n",
        "\n",
        "Images can contain fans, blotches, both, or neither. You could treat this as a four class softmax problem, or two binary classification problems. Here I take the latter approach and use a binary cross entropy loss. "
      ],
      "id": "8f3d8cc2-2be4-48e7-aa2e-f35d7a835796"
    },
    {
      "cell_type": "code",
      "metadata": {
        "id": "6729d82b-3a4c-4036-a95d-70695d528bb5"
      },
      "source": [
        "criterion = nn.BCEWithLogitsLoss()"
      ],
      "id": "6729d82b-3a4c-4036-a95d-70695d528bb5",
      "execution_count": null,
      "outputs": []
    },
    {
      "cell_type": "markdown",
      "metadata": {
        "id": "426c8e89-d806-420f-a76c-ab10d1d4e406"
      },
      "source": [
        "## Optimizer\n",
        "\n",
        "Stochastic gradient descent with momentum"
      ],
      "id": "426c8e89-d806-420f-a76c-ab10d1d4e406"
    },
    {
      "cell_type": "code",
      "metadata": {
        "id": "8eac8696-3a99-40c1-ab9f-d95971bd1f40"
      },
      "source": [
        "optimizer = optim.SGD(model.parameters(), lr=0.001, momentum=0.9, weight_decay=1e-4)"
      ],
      "id": "8eac8696-3a99-40c1-ab9f-d95971bd1f40",
      "execution_count": null,
      "outputs": []
    },
    {
      "cell_type": "markdown",
      "metadata": {
        "id": "d5c709bf-c5cb-433b-b8af-678759182eef"
      },
      "source": [
        "## Training and validation functions"
      ],
      "id": "d5c709bf-c5cb-433b-b8af-678759182eef"
    },
    {
      "cell_type": "code",
      "metadata": {
        "id": "26eb5f0c-7b1d-49f1-8682-097d0ae64e54"
      },
      "source": [
        "avg_train_losses = []\n",
        "avg_valid_losses = []\n",
        "valid_accuracies = []\n",
        "\n",
        "\n",
        "def train_for_epoch(optimizer):\n",
        "    model.train()\n",
        "\n",
        "    train_losses = []\n",
        "\n",
        "    for batch, target in tqdm.tqdm(train_loader):\n",
        "\n",
        "        # data to GPU\n",
        "        batch = batch.to(device)\n",
        "        target = target.to(device)\n",
        "\n",
        "        # reset optimizer\n",
        "        optimizer.zero_grad()\n",
        "\n",
        "        # forward pass\n",
        "        predictions = model(batch)\n",
        "        #breakpoint()\n",
        "\n",
        "        # calculate loss\n",
        "        loss = criterion(predictions, target)\n",
        "\n",
        "        # backward pass\n",
        "        loss.backward()\n",
        "\n",
        "        # parameter update\n",
        "        optimizer.step()\n",
        "\n",
        "        # track loss\n",
        "        train_losses.append(float(loss.item()))\n",
        "\n",
        "    train_losses = np.array(train_losses)\n",
        "    return train_losses\n",
        "\n",
        "\n",
        "def validate():\n",
        "    model.eval()\n",
        "\n",
        "    valid_losses = []\n",
        "    y_true, y_prob = [], []\n",
        "\n",
        "    with torch.no_grad():\n",
        "        for batch, target in valid_loader:\n",
        "\n",
        "            # move data to the device\n",
        "            batch = batch.to(device)\n",
        "            target = target.to(device)\n",
        "\n",
        "            # make predictions\n",
        "            predictions = model(batch)\n",
        "\n",
        "            # calculate loss\n",
        "            loss = criterion(predictions, target)\n",
        "            \n",
        "            # logits -> probabilities\n",
        "            torch.sigmoid_(predictions)\n",
        "\n",
        "            # track losses and predictions\n",
        "            valid_losses.append(float(loss.item()))\n",
        "            y_true.extend(target.cpu().numpy())\n",
        "            y_prob.extend(predictions.cpu().numpy())\n",
        "            \n",
        "    y_true = np.array(y_true)\n",
        "    y_prob = np.array(y_prob)\n",
        "    y_pred = y_prob > 0.5\n",
        "    valid_losses = np.array(valid_losses)\n",
        "\n",
        "    # calculate validation accuracy from y_true and y_pred\n",
        "    fan_accuracy = metrics.accuracy_score(y_true[:,0], y_pred[:,0])\n",
        "    blotch_accuracy = metrics.accuracy_score(y_true[:,1], y_pred[:,1])\n",
        "    exact_accuracy = np.all(y_true == y_pred, axis=1).mean()\n",
        "\n",
        "    # calculate the mean validation loss\n",
        "    valid_loss = valid_losses.mean()\n",
        "\n",
        "    return valid_loss, fan_accuracy, blotch_accuracy, exact_accuracy\n",
        "\n",
        "\n",
        "def train(epochs, first_epoch=1):\n",
        "    for epoch in range(first_epoch, epochs+first_epoch):\n",
        "\n",
        "        # train\n",
        "        train_loss = train_for_epoch(optimizer)\n",
        "\n",
        "        # validation\n",
        "        valid_loss, fan_accuracy, blotch_accuracy, both_accuracy = validate()\n",
        "        print(f'[{epoch:02d}] train loss: {train_loss.mean():0.04f}  '\n",
        "              f'valid loss: {valid_loss:0.04f}  ',\n",
        "              f'fan acc: {fan_accuracy:0.04f}  ',\n",
        "              f'blotch acc: {blotch_accuracy:0.04f}  ',\n",
        "              f'both acc: {both_accuracy:0.04f}'\n",
        "        )\n",
        "        \n",
        "        # update learning curves\n",
        "        avg_train_losses.append(train_loss.mean())\n",
        "        avg_valid_losses.append(valid_loss)\n",
        "        valid_accuracies.append((fan_accuracy, blotch_accuracy, both_accuracy))\n",
        "        \n",
        "        # save checkpoint\n",
        "        torch.save(model, f'/content/drive/MyDrive/Models/epochs_5.pkl')"
      ],
      "id": "26eb5f0c-7b1d-49f1-8682-097d0ae64e54",
      "execution_count": null,
      "outputs": []
    },
    {
      "cell_type": "markdown",
      "metadata": {
        "id": "7b750e3a-4357-420e-b89e-aa1afbd35e2d"
      },
      "source": [
        "## Constant classifier accuracy\n",
        "\n",
        "Evaluate how accurate would a $f(x) = \\text{\"most common class\"}$ classifier be? "
      ],
      "id": "7b750e3a-4357-420e-b89e-aa1afbd35e2d"
    },
    {
      "cell_type": "code",
      "metadata": {
        "id": "66147496-e69a-4391-89bf-d24d7c797371"
      },
      "source": [
        "def constant_clf_accuracy():\n",
        "    y_true, y_pred = [], []\n",
        "    with torch.no_grad():\n",
        "        for _, target in valid_loader:\n",
        "            y_true.extend(target.cpu().numpy())\n",
        "            y_pred.extend(np.ones((target.shape[0], 2), dtype=np.float32))\n",
        "            \n",
        "    y_true = np.array(y_true)\n",
        "    y_pred = np.array(y_pred)\n",
        "        \n",
        "    # calculate validation accuracy from y_true and y_pred\n",
        "    f = metrics.accuracy_score(y_true[:,0], y_pred[:,0])\n",
        "    b = metrics.accuracy_score(y_true[:,1], y_pred[:,1])\n",
        "    t = np.all(y_true == y_pred, axis=1).mean()\n",
        "    print(f'fan: {f}  blotch: {b}  both: {t}')"
      ],
      "id": "66147496-e69a-4391-89bf-d24d7c797371",
      "execution_count": null,
      "outputs": []
    },
    {
      "cell_type": "code",
      "metadata": {
        "id": "0148aec5-f941-4499-b107-65bff2ca87c8",
        "colab": {
          "base_uri": "https://localhost:8080/"
        },
        "outputId": "bcfdc64e-b03b-43c7-90b9-d0382dd25728"
      },
      "source": [
        "constant_clf_accuracy()"
      ],
      "id": "0148aec5-f941-4499-b107-65bff2ca87c8",
      "execution_count": null,
      "outputs": [
        {
          "output_type": "stream",
          "name": "stdout",
          "text": [
            "fan: 0.6218644702358667  blotch: 0.8083114938225384  both: 0.4399101460127293\n"
          ]
        }
      ]
    },
    {
      "cell_type": "markdown",
      "metadata": {
        "id": "Le8EwbPlai33"
      },
      "source": [
        ""
      ],
      "id": "Le8EwbPlai33"
    },
    {
      "cell_type": "markdown",
      "metadata": {
        "id": "2c698dd8-6e41-4bba-9f77-82ed162a647f"
      },
      "source": [
        "## Train the model for 5 epochs.\n",
        "Call the ``train(n)`` function to train for ``n`` epochs."
      ],
      "id": "2c698dd8-6e41-4bba-9f77-82ed162a647f"
    },
    {
      "cell_type": "code",
      "metadata": {
        "id": "b1baa5b9-b8d7-41c2-8e93-061af75185c4",
        "colab": {
          "base_uri": "https://localhost:8080/"
        },
        "outputId": "f3538627-5873-44d9-e9c9-c0696d3359a2"
      },
      "source": [
        "train(5)"
      ],
      "id": "b1baa5b9-b8d7-41c2-8e93-061af75185c4",
      "execution_count": null,
      "outputs": [
        {
          "output_type": "stream",
          "name": "stderr",
          "text": [
            "100%|██████████| 376/376 [1:26:16<00:00, 13.77s/it]\n"
          ]
        },
        {
          "output_type": "stream",
          "name": "stdout",
          "text": [
            "[01] train loss: 0.4791  valid loss: 0.4216   fan acc: 0.7746   blotch acc: 0.8353   both acc: 0.6383\n"
          ]
        },
        {
          "output_type": "stream",
          "name": "stderr",
          "text": [
            "100%|██████████| 376/376 [02:52<00:00,  2.19it/s]\n"
          ]
        },
        {
          "output_type": "stream",
          "name": "stdout",
          "text": [
            "[02] train loss: 0.3959  valid loss: 0.4084   fan acc: 0.7926   blotch acc: 0.8308   both acc: 0.6548\n"
          ]
        },
        {
          "output_type": "stream",
          "name": "stderr",
          "text": [
            "100%|██████████| 376/376 [02:51<00:00,  2.20it/s]\n"
          ]
        },
        {
          "output_type": "stream",
          "name": "stdout",
          "text": [
            "[03] train loss: 0.3544  valid loss: 0.3899   fan acc: 0.8072   blotch acc: 0.8491   both acc: 0.6836\n"
          ]
        },
        {
          "output_type": "stream",
          "name": "stderr",
          "text": [
            "100%|██████████| 376/376 [02:51<00:00,  2.19it/s]\n"
          ]
        },
        {
          "output_type": "stream",
          "name": "stdout",
          "text": [
            "[04] train loss: 0.3215  valid loss: 0.3996   fan acc: 0.7993   blotch acc: 0.8435   both acc: 0.6758\n"
          ]
        },
        {
          "output_type": "stream",
          "name": "stderr",
          "text": [
            "100%|██████████| 376/376 [02:51<00:00,  2.20it/s]\n"
          ]
        },
        {
          "output_type": "stream",
          "name": "stdout",
          "text": [
            "[05] train loss: 0.2880  valid loss: 0.4042   fan acc: 0.8072   blotch acc: 0.8424   both acc: 0.6769\n"
          ]
        }
      ]
    },
    {
      "cell_type": "code",
      "metadata": {
        "id": "D4U-3r2pCDV3",
        "colab": {
          "base_uri": "https://localhost:8080/",
          "height": 295
        },
        "outputId": "e84465d8-927b-4c01-d42c-a5708306398f"
      },
      "source": [
        "plt.plot(avg_valid_losses)\n",
        "plt.title('Validation loss')\n",
        "plt.xlabel('epoch')\n",
        "plt.ylabel('Loss')\n",
        "plt.show()"
      ],
      "id": "D4U-3r2pCDV3",
      "execution_count": null,
      "outputs": [
        {
          "output_type": "display_data",
          "data": {
            "image/png": "[encoded data removed]",
            "text/plain": [
              "<Figure size 432x288 with 1 Axes>"
            ]
          },
          "metadata": {
            "needs_background": "light"
          }
        }
      ]
    },
    {
      "cell_type": "code",
      "metadata": {
        "id": "3j59MAPhCj6A",
        "colab": {
          "base_uri": "https://localhost:8080/",
          "height": 295
        },
        "outputId": "61ba54a1-ddae-49fd-eb92-497da970bc19"
      },
      "source": [
        "plt.plot(valid_accuracies)\n",
        "plt.title('Validation Accuracy')\n",
        "plt.xlabel('epoch')\n",
        "plt.ylabel('Accuracy')\n",
        "plt.legend([\"Fan acc\",\"Blotch Accuracy\",\"Both\"])\n",
        "plt.show()"
      ],
      "id": "3j59MAPhCj6A",
      "execution_count": null,
      "outputs": [
        {
          "output_type": "display_data",
          "data": {
            "image/png": "[encoded data removed]",
            "text/plain": [
              "<Figure size 432x288 with 1 Axes>"
            ]
          },
          "metadata": {
            "needs_background": "light"
          }
        }
      ]
    }
  ]
}
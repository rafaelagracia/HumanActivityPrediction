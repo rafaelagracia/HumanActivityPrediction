{
  "nbformat": 4,
  "nbformat_minor": 5,
  "metadata": {
    "kernelspec": {
      "display_name": "Python 3",
      "language": "python",
      "name": "python3"
    },
    "language_info": {
      "codemirror_mode": {
        "name": "ipython",
        "version": 3
      },
      "file_extension": ".py",
      "mimetype": "text/x-python",
      "name": "python",
      "nbconvert_exporter": "python",
      "pygments_lexer": "ipython3",
      "version": "3.8.5"
    },
    "colab": {
      "name": "vgg_sgd.ipynb",
      "provenance": [],
      "collapsed_sections": []
    },
    "widgets": {
      "application/vnd.jupyter.widget-state+json": {
        "d14ef3dfce624673b074e9773e76ee27": {
          "model_module": "@jupyter-widgets/controls",
          "model_name": "HBoxModel",
          "model_module_version": "1.5.0",
          "state": {
            "_view_name": "HBoxView",
            "_dom_classes": [],
            "_model_name": "HBoxModel",
            "_view_module": "@jupyter-widgets/controls",
            "_model_module_version": "1.5.0",
            "_view_count": null,
            "_view_module_version": "1.5.0",
            "box_style": "",
            "layout": "IPY_MODEL_d1e1fcdb5b8d48e8b1e39da4c3e67cd4",
            "_model_module": "@jupyter-widgets/controls",
            "children": [
              "IPY_MODEL_9d14f9b988654d6a82253ffc4dcd9c9f",
              "IPY_MODEL_48aae8bd0c834d52a8fa063ea3ff61cf",
              "IPY_MODEL_1ce874c74fb141b89c4007e5f8863308"
            ]
          }
        },
        "d1e1fcdb5b8d48e8b1e39da4c3e67cd4": {
          "model_module": "@jupyter-widgets/base",
          "model_name": "LayoutModel",
          "model_module_version": "1.2.0",
          "state": {
            "_view_name": "LayoutView",
            "grid_template_rows": null,
            "right": null,
            "justify_content": null,
            "_view_module": "@jupyter-widgets/base",
            "overflow": null,
            "_model_module_version": "1.2.0",
            "_view_count": null,
            "flex_flow": null,
            "width": null,
            "min_width": null,
            "border": null,
            "align_items": null,
            "bottom": null,
            "_model_module": "@jupyter-widgets/base",
            "top": null,
            "grid_column": null,
            "overflow_y": null,
            "overflow_x": null,
            "grid_auto_flow": null,
            "grid_area": null,
            "grid_template_columns": null,
            "flex": null,
            "_model_name": "LayoutModel",
            "justify_items": null,
            "grid_row": null,
            "max_height": null,
            "align_content": null,
            "visibility": null,
            "align_self": null,
            "height": null,
            "min_height": null,
            "padding": null,
            "grid_auto_rows": null,
            "grid_gap": null,
            "max_width": null,
            "order": null,
            "_view_module_version": "1.2.0",
            "grid_template_areas": null,
            "object_position": null,
            "object_fit": null,
            "grid_auto_columns": null,
            "margin": null,
            "display": null,
            "left": null
          }
        },
        "9d14f9b988654d6a82253ffc4dcd9c9f": {
          "model_module": "@jupyter-widgets/controls",
          "model_name": "HTMLModel",
          "model_module_version": "1.5.0",
          "state": {
            "_view_name": "HTMLView",
            "style": "IPY_MODEL_3169d53b927a4b0dbda0bc3c4935f036",
            "_dom_classes": [],
            "description": "",
            "_model_name": "HTMLModel",
            "placeholder": "​",
            "_view_module": "@jupyter-widgets/controls",
            "_model_module_version": "1.5.0",
            "value": "100%",
            "_view_count": null,
            "_view_module_version": "1.5.0",
            "description_tooltip": null,
            "_model_module": "@jupyter-widgets/controls",
            "layout": "IPY_MODEL_c33a5992598e450c9da3a9e69def53e4"
          }
        },
        "48aae8bd0c834d52a8fa063ea3ff61cf": {
          "model_module": "@jupyter-widgets/controls",
          "model_name": "FloatProgressModel",
          "model_module_version": "1.5.0",
          "state": {
            "_view_name": "ProgressView",
            "style": "IPY_MODEL_ff86915cfb964562a2f25e9b0bbcb0f8",
            "_dom_classes": [],
            "description": "",
            "_model_name": "FloatProgressModel",
            "bar_style": "success",
            "max": 553433881,
            "_view_module": "@jupyter-widgets/controls",
            "_model_module_version": "1.5.0",
            "value": 553433881,
            "_view_count": null,
            "_view_module_version": "1.5.0",
            "orientation": "horizontal",
            "min": 0,
            "description_tooltip": null,
            "_model_module": "@jupyter-widgets/controls",
            "layout": "IPY_MODEL_85ee265bdc30457094c11ecf42a8a5e4"
          }
        },
        "1ce874c74fb141b89c4007e5f8863308": {
          "model_module": "@jupyter-widgets/controls",
          "model_name": "HTMLModel",
          "model_module_version": "1.5.0",
          "state": {
            "_view_name": "HTMLView",
            "style": "IPY_MODEL_f50f85e8835a4447a8331d5235157c40",
            "_dom_classes": [],
            "description": "",
            "_model_name": "HTMLModel",
            "placeholder": "​",
            "_view_module": "@jupyter-widgets/controls",
            "_model_module_version": "1.5.0",
            "value": " 528M/528M [00:05&lt;00:00, 90.4MB/s]",
            "_view_count": null,
            "_view_module_version": "1.5.0",
            "description_tooltip": null,
            "_model_module": "@jupyter-widgets/controls",
            "layout": "IPY_MODEL_d4a5a4974a864e959492e5a11de65918"
          }
        },
        "3169d53b927a4b0dbda0bc3c4935f036": {
          "model_module": "@jupyter-widgets/controls",
          "model_name": "DescriptionStyleModel",
          "model_module_version": "1.5.0",
          "state": {
            "_view_name": "StyleView",
            "_model_name": "DescriptionStyleModel",
            "description_width": "",
            "_view_module": "@jupyter-widgets/base",
            "_model_module_version": "1.5.0",
            "_view_count": null,
            "_view_module_version": "1.2.0",
            "_model_module": "@jupyter-widgets/controls"
          }
        },
        "c33a5992598e450c9da3a9e69def53e4": {
          "model_module": "@jupyter-widgets/base",
          "model_name": "LayoutModel",
          "model_module_version": "1.2.0",
          "state": {
            "_view_name": "LayoutView",
            "grid_template_rows": null,
            "right": null,
            "justify_content": null,
            "_view_module": "@jupyter-widgets/base",
            "overflow": null,
            "_model_module_version": "1.2.0",
            "_view_count": null,
            "flex_flow": null,
            "width": null,
            "min_width": null,
            "border": null,
            "align_items": null,
            "bottom": null,
            "_model_module": "@jupyter-widgets/base",
            "top": null,
            "grid_column": null,
            "overflow_y": null,
            "overflow_x": null,
            "grid_auto_flow": null,
            "grid_area": null,
            "grid_template_columns": null,
            "flex": null,
            "_model_name": "LayoutModel",
            "justify_items": null,
            "grid_row": null,
            "max_height": null,
            "align_content": null,
            "visibility": null,
            "align_self": null,
            "height": null,
            "min_height": null,
            "padding": null,
            "grid_auto_rows": null,
            "grid_gap": null,
            "max_width": null,
            "order": null,
            "_view_module_version": "1.2.0",
            "grid_template_areas": null,
            "object_position": null,
            "object_fit": null,
            "grid_auto_columns": null,
            "margin": null,
            "display": null,
            "left": null
          }
        },
        "ff86915cfb964562a2f25e9b0bbcb0f8": {
          "model_module": "@jupyter-widgets/controls",
          "model_name": "ProgressStyleModel",
          "model_module_version": "1.5.0",
          "state": {
            "_view_name": "StyleView",
            "_model_name": "ProgressStyleModel",
            "description_width": "",
            "_view_module": "@jupyter-widgets/base",
            "_model_module_version": "1.5.0",
            "_view_count": null,
            "_view_module_version": "1.2.0",
            "bar_color": null,
            "_model_module": "@jupyter-widgets/controls"
          }
        },
        "85ee265bdc30457094c11ecf42a8a5e4": {
          "model_module": "@jupyter-widgets/base",
          "model_name": "LayoutModel",
          "model_module_version": "1.2.0",
          "state": {
            "_view_name": "LayoutView",
            "grid_template_rows": null,
            "right": null,
            "justify_content": null,
            "_view_module": "@jupyter-widgets/base",
            "overflow": null,
            "_model_module_version": "1.2.0",
            "_view_count": null,
            "flex_flow": null,
            "width": null,
            "min_width": null,
            "border": null,
            "align_items": null,
            "bottom": null,
            "_model_module": "@jupyter-widgets/base",
            "top": null,
            "grid_column": null,
            "overflow_y": null,
            "overflow_x": null,
            "grid_auto_flow": null,
            "grid_area": null,
            "grid_template_columns": null,
            "flex": null,
            "_model_name": "LayoutModel",
            "justify_items": null,
            "grid_row": null,
            "max_height": null,
            "align_content": null,
            "visibility": null,
            "align_self": null,
            "height": null,
            "min_height": null,
            "padding": null,
            "grid_auto_rows": null,
            "grid_gap": null,
            "max_width": null,
            "order": null,
            "_view_module_version": "1.2.0",
            "grid_template_areas": null,
            "object_position": null,
            "object_fit": null,
            "grid_auto_columns": null,
            "margin": null,
            "display": null,
            "left": null
          }
        },
        "f50f85e8835a4447a8331d5235157c40": {
          "model_module": "@jupyter-widgets/controls",
          "model_name": "DescriptionStyleModel",
          "model_module_version": "1.5.0",
          "state": {
            "_view_name": "StyleView",
            "_model_name": "DescriptionStyleModel",
            "description_width": "",
            "_view_module": "@jupyter-widgets/base",
            "_model_module_version": "1.5.0",
            "_view_count": null,
            "_view_module_version": "1.2.0",
            "_model_module": "@jupyter-widgets/controls"
          }
        },
        "d4a5a4974a864e959492e5a11de65918": {
          "model_module": "@jupyter-widgets/base",
          "model_name": "LayoutModel",
          "model_module_version": "1.2.0",
          "state": {
            "_view_name": "LayoutView",
            "grid_template_rows": null,
            "right": null,
            "justify_content": null,
            "_view_module": "@jupyter-widgets/base",
            "overflow": null,
            "_model_module_version": "1.2.0",
            "_view_count": null,
            "flex_flow": null,
            "width": null,
            "min_width": null,
            "border": null,
            "align_items": null,
            "bottom": null,
            "_model_module": "@jupyter-widgets/base",
            "top": null,
            "grid_column": null,
            "overflow_y": null,
            "overflow_x": null,
            "grid_auto_flow": null,
            "grid_area": null,
            "grid_template_columns": null,
            "flex": null,
            "_model_name": "LayoutModel",
            "justify_items": null,
            "grid_row": null,
            "max_height": null,
            "align_content": null,
            "visibility": null,
            "align_self": null,
            "height": null,
            "min_height": null,
            "padding": null,
            "grid_auto_rows": null,
            "grid_gap": null,
            "max_width": null,
            "order": null,
            "_view_module_version": "1.2.0",
            "grid_template_areas": null,
            "object_position": null,
            "object_fit": null,
            "grid_auto_columns": null,
            "margin": null,
            "display": null,
            "left": null
          }
        }
      }
    }
  },
  "cells": [
    {
      "cell_type": "markdown",
      "metadata": {
        "id": "1e4b5617-aa46-4385-9964-a3bac5ae5a15"
      },
      "source": [
        "## Planet four image classification"
      ],
      "id": "1e4b5617-aa46-4385-9964-a3bac5ae5a15"
    },
    {
      "cell_type": "code",
      "metadata": {
        "id": "746335e6-87ca-4786-ada5-a042ad526425"
      },
      "source": [
        "import numpy as np\n",
        "import matplotlib.pyplot as plt\n",
        "import pandas as pd\n",
        "\n",
        "import torch\n",
        "import torch.nn.functional as F\n",
        "import torch.nn as nn\n",
        "import torch.optim as optim\n",
        "import torchvision.transforms as transforms\n",
        "import torchvision.models as models\n",
        "import sklearn.metrics as metrics\n",
        "import tqdm\n",
        "\n",
        "from torch.utils.data import DataLoader\n",
        "from torchvision.datasets.folder import pil_loader\n",
        "from pathlib import Path\n",
        "from PIL import Image"
      ],
      "id": "746335e6-87ca-4786-ada5-a042ad526425",
      "execution_count": null,
      "outputs": []
    },
    {
      "cell_type": "code",
      "metadata": {
        "id": "uk1E7v77SCdE",
        "colab": {
          "base_uri": "https://localhost:8080/"
        },
        "outputId": "afd8406a-0de6-4d0d-a388-8f4478f77372"
      },
      "source": [
        "from google.colab import drive\n",
        "drive.mount('/content/drive')"
      ],
      "id": "uk1E7v77SCdE",
      "execution_count": null,
      "outputs": [
        {
          "output_type": "stream",
          "name": "stdout",
          "text": [
            "Drive already mounted at /content/drive; to attempt to forcibly remount, call drive.mount(\"/content/drive\", force_remount=True).\n"
          ]
        }
      ]
    },
    {
      "cell_type": "markdown",
      "metadata": {
        "id": "2c002513-1fe7-4786-88cd-07d35fc0b430"
      },
      "source": [
        "Change the device to \"cpu\" if you want to train on a CPU instead of a GPU."
      ],
      "id": "2c002513-1fe7-4786-88cd-07d35fc0b430"
    },
    {
      "cell_type": "code",
      "metadata": {
        "id": "bad120f2-9393-4c57-87a7-8197e9a1245d"
      },
      "source": [
        "device = 'cuda'"
      ],
      "id": "bad120f2-9393-4c57-87a7-8197e9a1245d",
      "execution_count": null,
      "outputs": []
    },
    {
      "cell_type": "markdown",
      "metadata": {
        "id": "837c532e-5cfc-4216-a321-419968407f37"
      },
      "source": [
        "## Dataset\n",
        "\n",
        "Here we define a custom Dataset object for the Planet Four data. You can read more about this in the PyTorch documentation: https://pytorch.org/tutorials/beginner/basics/data_tutorial.html"
      ],
      "id": "837c532e-5cfc-4216-a321-419968407f37"
    },
    {
      "cell_type": "code",
      "metadata": {
        "id": "ba9356db-6837-4444-bdab-a4aea56007a9"
      },
      "source": [
        "class PlanetFourDataset(object):\n",
        "    def __init__(self, split='train', transform=None, loader=pil_loader):\n",
        "        super().__init__()\n",
        "        self.split = split\n",
        "        self.base_dir = Path('/content/drive/MyDrive/Splits')\n",
        "        self.image_dir = self.base_dir / split\n",
        "        self.labels_file = self.base_dir / (split + '.csv')\n",
        "        self.labels_df = pd.read_csv(self.labels_file)\n",
        "        self.transform = transform\n",
        "        self.loader = loader\n",
        "        \n",
        "    def __getitem__(self, index):\n",
        "        row = self.labels_df.iloc[index]\n",
        "        filename = self.image_dir / (row.tile_id + '.jpg')\n",
        "        fans = int(row.fans)\n",
        "        blotches = int(row.blotches)\n",
        "        image = self.loader(str(filename))\n",
        "        if self.transform is not None:\n",
        "            image = self.transform(image)\n",
        "        return image, torch.tensor([fans, blotches], dtype=torch.float32)\n",
        "    \n",
        "    def __len__(self):\n",
        "        return len(self.labels_df)"
      ],
      "id": "ba9356db-6837-4444-bdab-a4aea56007a9",
      "execution_count": null,
      "outputs": []
    },
    {
      "cell_type": "markdown",
      "metadata": {
        "id": "bb6ef1da-a034-4d88-bbab-64dbce05da6a"
      },
      "source": [
        "## Data augmentation\n",
        "\n",
        "It is standard practice in deep learning to augment the training examples to prevent the network from overfitting. Here I use some standard augmentations such as randomly mirroring the images."
      ],
      "id": "bb6ef1da-a034-4d88-bbab-64dbce05da6a"
    },
    {
      "cell_type": "code",
      "metadata": {
        "id": "198239e2-84ff-4e33-a1dd-7b9a18f68d49"
      },
      "source": [
        "train_transform = transforms.Compose([\n",
        "    transforms.RandomHorizontalFlip(),\n",
        "    transforms.ToTensor(),\n",
        "    transforms.Normalize((0.4914, 0.4822, 0.4465), (0.2023, 0.1994, 0.2010))                  \n",
        "])\n",
        "\n",
        "valid_transform = transforms.Compose([\n",
        "    transforms.ToTensor(),\n",
        "    transforms.Normalize((0.4914, 0.4822, 0.4465), (0.2023, 0.1994, 0.2010)) \n",
        "])"
      ],
      "id": "198239e2-84ff-4e33-a1dd-7b9a18f68d49",
      "execution_count": null,
      "outputs": []
    },
    {
      "cell_type": "markdown",
      "metadata": {
        "id": "7d7a5b9c-33a6-4bfc-a699-05f3415de676"
      },
      "source": [
        "## Data loaders\n",
        "\n",
        "In PyTorch, the data loaders take care of spinning up threads to load batches of data into memory from the dataset object."
      ],
      "id": "7d7a5b9c-33a6-4bfc-a699-05f3415de676"
    },
    {
      "cell_type": "code",
      "metadata": {
        "id": "f8b2fb4c-e711-49a0-9a21-fb8249972ffc"
      },
      "source": [
        "train_set = PlanetFourDataset('train', transform=train_transform)\n",
        "valid_set = PlanetFourDataset('valid', transform=train_transform)\n",
        "\n",
        "\n",
        "train_loader = DataLoader(train_set, batch_size=64, shuffle=True)\n",
        "valid_loader = DataLoader(valid_set, batch_size=64, shuffle=False)\n",
        "\n"
      ],
      "id": "f8b2fb4c-e711-49a0-9a21-fb8249972ffc",
      "execution_count": null,
      "outputs": []
    },
    {
      "cell_type": "code",
      "metadata": {
        "id": "KXrglbOsvCTl"
      },
      "source": [
        "train_set.class_indices = feature_detected\n",
        "valid_set.class_indices = feature_detected\n"
      ],
      "id": "KXrglbOsvCTl",
      "execution_count": null,
      "outputs": []
    },
    {
      "cell_type": "markdown",
      "metadata": {
        "id": "1bbd1e9b-801b-4da5-975a-6c061b16b005"
      },
      "source": [
        "## Load a pretrained model\n",
        "\n",
        "Here we'll use ResNet50 model that has been pretrained on ImageNet and replace the final layer with a new one suited to our problem."
      ],
      "id": "1bbd1e9b-801b-4da5-975a-6c061b16b005"
    },
    {
      "cell_type": "code",
      "metadata": {
        "id": "9e84455f-5c9c-4ccd-a107-bf19e6fec48e",
        "colab": {
          "base_uri": "https://localhost:8080/",
          "height": 66,
          "referenced_widgets": [
            "d14ef3dfce624673b074e9773e76ee27",
            "d1e1fcdb5b8d48e8b1e39da4c3e67cd4",
            "9d14f9b988654d6a82253ffc4dcd9c9f",
            "48aae8bd0c834d52a8fa063ea3ff61cf",
            "1ce874c74fb141b89c4007e5f8863308",
            "3169d53b927a4b0dbda0bc3c4935f036",
            "c33a5992598e450c9da3a9e69def53e4",
            "ff86915cfb964562a2f25e9b0bbcb0f8",
            "85ee265bdc30457094c11ecf42a8a5e4",
            "f50f85e8835a4447a8331d5235157c40",
            "d4a5a4974a864e959492e5a11de65918"
          ]
        },
        "outputId": "4c77da50-0094-4a3e-8cc0-011a2ce11262"
      },
      "source": [
        "model = models.vgg16(pretrained=True)\n",
        "model.classifier[6] = nn.Linear(4096,2)\n",
        "model.to(device);"
      ],
      "id": "9e84455f-5c9c-4ccd-a107-bf19e6fec48e",
      "execution_count": null,
      "outputs": [
        {
          "output_type": "stream",
          "name": "stderr",
          "text": [
            "Downloading: \"https://download.pytorch.org/models/vgg16-397923af.pth\" to /root/.cache/torch/hub/checkpoints/vgg16-397923af.pth\n"
          ]
        },
        {
          "output_type": "display_data",
          "data": {
            "application/vnd.jupyter.widget-view+json": {
              "model_id": "d14ef3dfce624673b074e9773e76ee27",
              "version_minor": 0,
              "version_major": 2
            },
            "text/plain": [
              "  0%|          | 0.00/528M [00:00<?, ?B/s]"
            ]
          },
          "metadata": {}
        }
      ]
    },
    {
      "cell_type": "markdown",
      "metadata": {
        "id": "8f3d8cc2-2be4-48e7-aa2e-f35d7a835796"
      },
      "source": [
        "## Loss\n",
        "\n",
        "Images can contain fans, blotches, both, or neither. You could treat this as a four class softmax problem, or two binary classification problems. Here I take the latter approach and use a binary cross entropy loss. "
      ],
      "id": "8f3d8cc2-2be4-48e7-aa2e-f35d7a835796"
    },
    {
      "cell_type": "code",
      "metadata": {
        "id": "6729d82b-3a4c-4036-a95d-70695d528bb5"
      },
      "source": [
        "criterion = nn.BCEWithLogitsLoss()"
      ],
      "id": "6729d82b-3a4c-4036-a95d-70695d528bb5",
      "execution_count": null,
      "outputs": []
    },
    {
      "cell_type": "markdown",
      "metadata": {
        "id": "426c8e89-d806-420f-a76c-ab10d1d4e406"
      },
      "source": [
        "## Optimizer\n",
        "\n",
        "Stochastic gradient descent with momentum"
      ],
      "id": "426c8e89-d806-420f-a76c-ab10d1d4e406"
    },
    {
      "cell_type": "code",
      "metadata": {
        "id": "8eac8696-3a99-40c1-ab9f-d95971bd1f40"
      },
      "source": [
        "optimizer = optim.SGD(model.parameters(), lr=0.001,weight_decay=1e-4)"
      ],
      "id": "8eac8696-3a99-40c1-ab9f-d95971bd1f40",
      "execution_count": null,
      "outputs": []
    },
    {
      "cell_type": "markdown",
      "metadata": {
        "id": "d5c709bf-c5cb-433b-b8af-678759182eef"
      },
      "source": [
        "## Training and validation functions"
      ],
      "id": "d5c709bf-c5cb-433b-b8af-678759182eef"
    },
    {
      "cell_type": "code",
      "metadata": {
        "id": "26eb5f0c-7b1d-49f1-8682-097d0ae64e54"
      },
      "source": [
        "avg_train_losses = []\n",
        "avg_valid_losses = []\n",
        "valid_accuracies = []\n",
        "\n",
        "\n",
        "def train_for_epoch(optimizer):\n",
        "    model.train()\n",
        "\n",
        "    train_losses = []\n",
        "\n",
        "    for batch, target in tqdm.tqdm(train_loader):\n",
        "\n",
        "        # data to GPU\n",
        "        batch = batch.to(device)\n",
        "        target = target.to(device)\n",
        "\n",
        "        # reset optimizer\n",
        "        optimizer.zero_grad()\n",
        "\n",
        "        # forward pass\n",
        "        predictions = model(batch)\n",
        "        #breakpoint()\n",
        "\n",
        "        # calculate loss\n",
        "        loss = criterion(predictions, target)\n",
        "\n",
        "        # backward pass\n",
        "        loss.backward()\n",
        "\n",
        "        # parameter update\n",
        "        optimizer.step()\n",
        "\n",
        "        # track loss\n",
        "        train_losses.append(float(loss.item()))\n",
        "\n",
        "    train_losses = np.array(train_losses)\n",
        "    return train_losses\n",
        "\n",
        "\n",
        "def validate():\n",
        "    model.eval()\n",
        "\n",
        "    valid_losses = []\n",
        "    y_true, y_prob = [], []\n",
        "\n",
        "    with torch.no_grad():\n",
        "        for batch, target in valid_loader:\n",
        "\n",
        "            # move data to the device\n",
        "            batch = batch.to(device)\n",
        "            target = target.to(device)\n",
        "\n",
        "            # make predictions\n",
        "            predictions = model(batch)\n",
        "\n",
        "            # calculate loss\n",
        "            loss = criterion(predictions, target)\n",
        "            \n",
        "            # logits -> probabilities\n",
        "            torch.sigmoid_(predictions)\n",
        "\n",
        "            # track losses and predictions\n",
        "            valid_losses.append(float(loss.item()))\n",
        "            y_true.extend(target.cpu().numpy())\n",
        "            y_prob.extend(predictions.cpu().numpy())\n",
        "            \n",
        "    y_true = np.array(y_true)\n",
        "    y_prob = np.array(y_prob)\n",
        "    y_pred = y_prob > 0.5\n",
        "    valid_losses = np.array(valid_losses)\n",
        "\n",
        "    # calculate validation accuracy from y_true and y_pred\n",
        "    fan_accuracy = metrics.accuracy_score(y_true[:,0], y_pred[:,0])\n",
        "    blotch_accuracy = metrics.accuracy_score(y_true[:,1], y_pred[:,1])\n",
        "    exact_accuracy = np.all(y_true == y_pred, axis=1).mean()\n",
        "\n",
        "    # calculate the mean validation loss\n",
        "    valid_loss = valid_losses.mean()\n",
        "\n",
        "    return valid_loss, fan_accuracy, blotch_accuracy, exact_accuracy\n",
        "\n",
        "\n",
        "def train(epochs, first_epoch=1):\n",
        "    for epoch in range(first_epoch, epochs+first_epoch):\n",
        "\n",
        "        # train\n",
        "        train_loss = train_for_epoch(optimizer)\n",
        "\n",
        "        # validation\n",
        "        valid_loss, fan_accuracy, blotch_accuracy, both_accuracy = validate()\n",
        "        print(f'[{epoch:02d}] train loss: {train_loss.mean():0.04f}  '\n",
        "              f'valid loss: {valid_loss:0.04f}  ',\n",
        "              f'fan acc: {fan_accuracy:0.04f}  ',\n",
        "              f'blotch acc: {blotch_accuracy:0.04f}  ',\n",
        "              f'both acc: {both_accuracy:0.04f}'\n",
        "        )\n",
        "        \n",
        "        # update learning curves\n",
        "        avg_train_losses.append(train_loss.mean())\n",
        "        avg_valid_losses.append(valid_loss)\n",
        "        valid_accuracies.append((fan_accuracy, blotch_accuracy, both_accuracy))\n",
        "        \n",
        "        # save checkpoint\n",
        "        #torch.save(model, f'/content/drive/MyDrive/Models/resnet.hdf5')\n",
        "        torch.save(model, f'/content/drive/MyDrive/Models/vgg_3.pkl')"
      ],
      "id": "26eb5f0c-7b1d-49f1-8682-097d0ae64e54",
      "execution_count": null,
      "outputs": []
    },
    {
      "cell_type": "markdown",
      "metadata": {
        "id": "7b750e3a-4357-420e-b89e-aa1afbd35e2d"
      },
      "source": [
        "## Constant classifier accuracy\n",
        "\n",
        "Evaluate how accurate would a $f(x) = \\text{\"most common class\"}$ classifier be? "
      ],
      "id": "7b750e3a-4357-420e-b89e-aa1afbd35e2d"
    },
    {
      "cell_type": "code",
      "metadata": {
        "id": "66147496-e69a-4391-89bf-d24d7c797371"
      },
      "source": [
        "def constant_clf_accuracy():\n",
        "    y_true, y_pred = [], []\n",
        "    with torch.no_grad():\n",
        "        for _, target in valid_loader:\n",
        "            y_true.extend(target.cpu().numpy())\n",
        "            y_pred.extend(np.ones((target.shape[0], 2), dtype=np.float32))\n",
        "            \n",
        "    y_true = np.array(y_true)\n",
        "    y_pred = np.array(y_pred)\n",
        "        \n",
        "    # calculate validation accuracy from y_true and y_pred\n",
        "    f = metrics.accuracy_score(y_true[:,0], y_pred[:,0])\n",
        "    b = metrics.accuracy_score(y_true[:,1], y_pred[:,1])\n",
        "    t = np.all(y_true == y_pred, axis=1).mean()\n",
        "    print(f'fan: {f}  blotch: {b}  both: {t}')"
      ],
      "id": "66147496-e69a-4391-89bf-d24d7c797371",
      "execution_count": null,
      "outputs": []
    },
    {
      "cell_type": "code",
      "metadata": {
        "id": "0148aec5-f941-4499-b107-65bff2ca87c8",
        "colab": {
          "base_uri": "https://localhost:8080/"
        },
        "outputId": "733472af-2a10-467a-872f-a43445ca6c6e"
      },
      "source": [
        "constant_clf_accuracy()"
      ],
      "id": "0148aec5-f941-4499-b107-65bff2ca87c8",
      "execution_count": null,
      "outputs": [
        {
          "output_type": "stream",
          "name": "stdout",
          "text": [
            "fan: 0.6218644702358667  blotch: 0.8083114938225384  both: 0.4399101460127293\n"
          ]
        }
      ]
    },
    {
      "cell_type": "markdown",
      "metadata": {
        "id": "2c698dd8-6e41-4bba-9f77-82ed162a647f"
      },
      "source": [
        "## Train the model\n",
        "Call the ``train(n)`` function to train for ``n`` epochs."
      ],
      "id": "2c698dd8-6e41-4bba-9f77-82ed162a647f"
    },
    {
      "cell_type": "code",
      "metadata": {
        "id": "b1baa5b9-b8d7-41c2-8e93-061af75185c4",
        "colab": {
          "base_uri": "https://localhost:8080/"
        },
        "outputId": "c939678b-8d16-45bc-b246-540bd8b1a7ff"
      },
      "source": [
        "train(8)"
      ],
      "id": "b1baa5b9-b8d7-41c2-8e93-061af75185c4",
      "execution_count": null,
      "outputs": [
        {
          "output_type": "stream",
          "name": "stderr",
          "text": [
            "100%|██████████| 376/376 [1:10:42<00:00, 11.28s/it]\n"
          ]
        },
        {
          "output_type": "stream",
          "name": "stdout",
          "text": [
            "[01] train loss: 0.5427  valid loss: 0.4862   fan acc: 0.7278   blotch acc: 0.8180   both acc: 0.5769\n"
          ]
        },
        {
          "output_type": "stream",
          "name": "stderr",
          "text": [
            "100%|██████████| 376/376 [03:06<00:00,  2.01it/s]\n"
          ]
        },
        {
          "output_type": "stream",
          "name": "stdout",
          "text": [
            "[02] train loss: 0.4905  valid loss: 0.4673   fan acc: 0.7323   blotch acc: 0.8192   both acc: 0.5878\n"
          ]
        },
        {
          "output_type": "stream",
          "name": "stderr",
          "text": [
            "100%|██████████| 376/376 [03:07<00:00,  2.01it/s]\n"
          ]
        },
        {
          "output_type": "stream",
          "name": "stdout",
          "text": [
            "[03] train loss: 0.4703  valid loss: 0.4549   fan acc: 0.7514   blotch acc: 0.8222   both acc: 0.6061\n"
          ]
        },
        {
          "output_type": "stream",
          "name": "stderr",
          "text": [
            "100%|██████████| 376/376 [03:06<00:00,  2.02it/s]\n"
          ]
        },
        {
          "output_type": "stream",
          "name": "stdout",
          "text": [
            "[04] train loss: 0.4587  valid loss: 0.4470   fan acc: 0.7555   blotch acc: 0.8244   both acc: 0.6133\n"
          ]
        },
        {
          "output_type": "stream",
          "name": "stderr",
          "text": [
            "100%|██████████| 376/376 [03:06<00:00,  2.01it/s]\n"
          ]
        },
        {
          "output_type": "stream",
          "name": "stdout",
          "text": [
            "[05] train loss: 0.4479  valid loss: 0.4405   fan acc: 0.7604   blotch acc: 0.8203   both acc: 0.6106\n"
          ]
        },
        {
          "output_type": "stream",
          "name": "stderr",
          "text": [
            "100%|██████████| 376/376 [03:06<00:00,  2.02it/s]\n"
          ]
        },
        {
          "output_type": "stream",
          "name": "stdout",
          "text": [
            "[06] train loss: 0.4412  valid loss: 0.4330   fan acc: 0.7638   blotch acc: 0.8304   both acc: 0.6267\n"
          ]
        },
        {
          "output_type": "stream",
          "name": "stderr",
          "text": [
            "100%|██████████| 376/376 [03:06<00:00,  2.02it/s]\n"
          ]
        },
        {
          "output_type": "stream",
          "name": "stdout",
          "text": [
            "[07] train loss: 0.4311  valid loss: 0.4260   fan acc: 0.7656   blotch acc: 0.8345   both acc: 0.6316\n"
          ]
        },
        {
          "output_type": "stream",
          "name": "stderr",
          "text": [
            "100%|██████████| 376/376 [03:05<00:00,  2.03it/s]\n"
          ]
        },
        {
          "output_type": "stream",
          "name": "stdout",
          "text": [
            "[08] train loss: 0.4231  valid loss: 0.4237   fan acc: 0.7772   blotch acc: 0.8300   both acc: 0.6391\n"
          ]
        }
      ]
    },
    {
      "cell_type": "code",
      "metadata": {
        "id": "k2vUDYhGa8yy",
        "colab": {
          "base_uri": "https://localhost:8080/",
          "height": 295
        },
        "outputId": "09c45f26-bcda-4837-d6b3-db2b41656c10"
      },
      "source": [
        "plt.plot(avg_valid_losses)\n",
        "plt.title('Validation loss')\n",
        "plt.xlabel('epoch')\n",
        "plt.ylabel('Loss')\n",
        "plt.show()"
      ],
      "id": "k2vUDYhGa8yy",
      "execution_count": null,
      "outputs": [
        {
          "output_type": "display_data",
          "data": {
            "image/png": "[encoded data removed]",
            "text/plain": [
              "<Figure size 432x288 with 1 Axes>"
            ]
          },
          "metadata": {
            "needs_background": "light"
          }
        }
      ]
    },
    {
      "cell_type": "code",
      "metadata": {
        "id": "SpX3bpewa9gA",
        "colab": {
          "base_uri": "https://localhost:8080/",
          "height": 295
        },
        "outputId": "9607d1e3-5537-423c-cbed-955185166e56"
      },
      "source": [
        "plt.plot(valid_accuracies)\n",
        "plt.title('Validation Accuracy')\n",
        "plt.xlabel('epoch')\n",
        "plt.ylabel('Accuracy')\n",
        "plt.legend([\"Fan acc\",\"Blotch Accuracy\",\"Both\"])\n",
        "plt.show()"
      ],
      "id": "SpX3bpewa9gA",
      "execution_count": null,
      "outputs": [
        {
          "output_type": "display_data",
          "data": {
            "image/png": "[encoded data removed]",
            "text/plain": [
              "<Figure size 432x288 with 1 Axes>"
            ]
          },
          "metadata": {
            "needs_background": "light"
          }
        }
      ]
    }
  ]
}